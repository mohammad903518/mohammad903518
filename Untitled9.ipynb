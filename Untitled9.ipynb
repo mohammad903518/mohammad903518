{
  "nbformat": 4,
  "nbformat_minor": 0,
  "metadata": {
    "colab": {
      "provenance": []
    },
    "kernelspec": {
      "name": "python3",
      "display_name": "Python 3"
    },
    "language_info": {
      "name": "python"
    }
  },
  "cells": [
    {
      "cell_type": "code",
      "source": [
        "import pandas as pd\n",
        "from sklearn.tree import DecisionTreeClassifier\n",
        "from sklearn.model_selection import train_test_split\n",
        "from sklearn.metrics import accuracy_score\n",
        "\n",
        "data = pd.read_csv('Heart_Failure_Details.csv')\n",
        "\n",
        "print(data.head())\n",
        "\n",
        "X = data.drop('sex', axis=1)\n",
        "y = data['sex']\n",
        "\n",
        "X_train, X_test, y_train, y_test = train_test_split(X, y, test_size=0.2, random_state=42)\n",
        "\n",
        "dt_model = DecisionTreeClassifier(random_state=42)\n",
        "dt_model.fit(X_train, y_train)\n",
        "\n",
        "y_pred = dt_model.predict(X_test)\n",
        "\n",
        "accuracy = accuracy_score(y_test, y_pred)\n",
        "\n",
        "count_women = (y == 0).sum()\n",
        "count_men = (y == 1).sum()\n",
        "\n",
        "print(f'Accuracy: {accuracy:.2f}')\n",
        "print(f'Number of Women: {count_women}')\n",
        "print(f'Number of Men: {count_men}')\n"
      ],
      "metadata": {
        "colab": {
          "base_uri": "https://localhost:8080/"
        },
        "id": "oGVvSeUNyCnC",
        "outputId": "c92740b2-f1a5-4dd5-e744-b05996bc3b16"
      },
      "execution_count": 9,
      "outputs": [
        {
          "output_type": "stream",
          "name": "stdout",
          "text": [
            "    age  anaemia  creatinine phosphokinase  diabetes  ejection fraction  \\\n",
            "0  75.0        0                       582         0                 20   \n",
            "1  55.0        0                      7861         0                 38   \n",
            "2  65.0        0                       146         0                 20   \n",
            "3  50.0        1                       111         0                 20   \n",
            "4  65.0        1                       160         1                 20   \n",
            "\n",
            "   high bp  platelets  serum creatinine  serum sodium  sex  smoking  death  \n",
            "0        1  265000.00               1.9           130    1        0      1  \n",
            "1        0  263358.03               1.1           136    1        0      1  \n",
            "2        0  162000.00               1.3           129    1        1      1  \n",
            "3        0  210000.00               1.9           137    1        0      1  \n",
            "4        0  327000.00               2.7           116    0        0      1  \n",
            "Accuracy: 0.63\n",
            "Number of Women: 105\n",
            "Number of Men: 194\n"
          ]
        }
      ]
    }
  ]
}