{
 "cells": [
  {
   "cell_type": "code",
   "execution_count": 1,
   "id": "faf756f0-e654-45f5-83e9-98cfd641bc46",
   "metadata": {},
   "outputs": [],
   "source": [
    "import numpy as np"
   ]
  },
  {
   "cell_type": "code",
   "execution_count": 2,
   "id": "9aa32035-260a-4a15-a10a-06c1de8cab20",
   "metadata": {},
   "outputs": [
    {
     "name": "stdout",
     "output_type": "stream",
     "text": [
      "[[1 2]\n",
      " [1 2]]\n"
     ]
    }
   ],
   "source": [
    "matrix1 = np.array([[1,2],[1,2]])\n",
    "matrix2 = np.array([[1,2,3],[1,2,3],[1,2,3]])\n",
    "matrix3 = np.array([[1,2,3,4],[1,5,3,4],[1,2,3,4]])\n",
    "print(matrix1)"
   ]
  },
  {
   "cell_type": "code",
   "execution_count": 3,
   "id": "1b83ff01-400a-4c59-b6e7-d49cc5e24ebd",
   "metadata": {},
   "outputs": [
    {
     "name": "stdout",
     "output_type": "stream",
     "text": [
      "[[1 2]\n",
      " [1 2]] [[1]]\n"
     ]
    }
   ],
   "source": [
    "print(matrix1,matrix2[0:1 , 0:1])"
   ]
  },
  {
   "cell_type": "code",
   "execution_count": 4,
   "id": "ff68de13-2953-42e7-a18e-8c1add83a8d1",
   "metadata": {},
   "outputs": [
    {
     "name": "stdout",
     "output_type": "stream",
     "text": [
      "5\n"
     ]
    }
   ],
   "source": [
    "print(matrix3[1,1])"
   ]
  }
 ],
 "metadata": {
  "kernelspec": {
   "display_name": "Python 3 (ipykernel)",
   "language": "python",
   "name": "python3"
  },
  "language_info": {
   "codemirror_mode": {
    "name": "ipython",
    "version": 3
   },
   "file_extension": ".py",
   "mimetype": "text/x-python",
   "name": "python",
   "nbconvert_exporter": "python",
   "pygments_lexer": "ipython3",
   "version": "3.11.8"
  }
 },
 "nbformat": 4,
 "nbformat_minor": 5
}
